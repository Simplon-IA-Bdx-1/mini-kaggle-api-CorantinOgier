{
 "cells": [
  {
   "cell_type": "markdown",
   "metadata": {},
   "source": [
    "# Mini kaggle api project\n",
    "  \n",
    "    \n",
    "      \n",
    "      \n",
    "*28/07/20*"
   ]
  },
  {
   "cell_type": "code",
   "execution_count": 1,
   "metadata": {},
   "outputs": [],
   "source": [
    "import pandas as pd\n",
    "\n",
    "### Load Data Set\n",
    "\n",
    "df=pd.read_csv(\n",
    "    'cs-training.csv', \n",
    "    sep=',',\n",
    "    header=0)\n",
    "data = df.drop(\n",
    "    df.columns[0], \n",
    "    axis=1)\n",
    "\n",
    "# Drop rows with missing column data\n",
    "data = data.dropna()\n",
    "\n",
    "\n",
    "### Convert Data Into List Of Dict Records\n",
    "\n",
    "data = data.to_dict(orient='records')\n",
    "\n",
    "\n",
    "### Seperate Target and Outcome Features\n",
    "\n",
    "from sklearn.feature_extraction import DictVectorizer\n",
    "from pandas import DataFrame\n",
    "\n",
    "vec = DictVectorizer()\n",
    "\n",
    "df_data = vec.fit_transform(data).toarray()\n",
    "feature_names = vec.get_feature_names()\n",
    "df_data = DataFrame(\n",
    "    df_data,\n",
    "    columns=feature_names)\n",
    "    \n",
    "outcome_feature = df_data['SeriousDlqin2yrs']\n",
    "target_features = df_data.drop('SeriousDlqin2yrs', axis=1)"
   ]
  },
  {
   "cell_type": "markdown",
   "metadata": {},
   "source": [
    "### Generate Training and Testing Set "
   ]
  },
  {
   "cell_type": "code",
   "execution_count": 6,
   "metadata": {},
   "outputs": [],
   "source": [
    "from sklearn.model_selection import train_test_split\n",
    "\n",
    "\"\"\"\n",
    "    X_1: independent (target) variables for first data set\n",
    "    Y_1: dependent (outcome) variable for first data set\n",
    "    X_2: independent (target) variables for the second data set\n",
    "    Y_2: dependent (outcome) variable for the second data set\n",
    "\"\"\"\n",
    "\n",
    "X_1, X_2, Y_1, Y_2 = train_test_split(\n",
    "    target_features, outcome_feature, test_size=0.5, random_state=0)"
   ]
  },
  {
   "cell_type": "markdown",
   "metadata": {},
   "source": [
    "### Define Classifier"
   ]
  },
  {
   "cell_type": "code",
   "execution_count": 8,
   "metadata": {},
   "outputs": [],
   "source": [
    "from sklearn.naive_bayes import GaussianNB\n",
    "\n",
    "clf = GaussianNB()"
   ]
  },
  {
   "cell_type": "markdown",
   "metadata": {},
   "source": [
    "### Train Classifier "
   ]
  },
  {
   "cell_type": "code",
   "execution_count": 9,
   "metadata": {},
   "outputs": [
    {
     "data": {
      "text/plain": [
       "GaussianNB(priors=None, var_smoothing=1e-09)"
      ]
     },
     "execution_count": 9,
     "metadata": {},
     "output_type": "execute_result"
    }
   ],
   "source": [
    "clf.fit(X_1,Y_1)"
   ]
  },
  {
   "cell_type": "markdown",
   "metadata": {},
   "source": [
    "### Print Accuracy and Confusion Matrix"
   ]
  },
  {
   "cell_type": "code",
   "execution_count": 11,
   "metadata": {},
   "outputs": [
    {
     "name": "stdout",
     "output_type": "stream",
     "text": [
      "accuracy: 0.9294088301322025\n",
      "[[55798  4094]\n",
      " [  151    92]]\n"
     ]
    }
   ],
   "source": [
    "output = clf.predict(X_2)\n",
    "\n",
    "from sklearn.metrics import confusion_matrix\n",
    "\n",
    "matrix = confusion_matrix(output, Y_2)\n",
    "score = clf.score(X_2, Y_2)\n",
    "\n",
    "print(\"accuracy: {0}\".format(score.mean()))\n",
    "print (matrix)"
   ]
  },
  {
   "cell_type": "markdown",
   "metadata": {},
   "source": [
    "### Save Classifier"
   ]
  },
  {
   "cell_type": "code",
   "execution_count": 13,
   "metadata": {},
   "outputs": [
    {
     "data": {
      "text/plain": [
       "['model/nb.pkl']"
      ]
     },
     "execution_count": 13,
     "metadata": {},
     "output_type": "execute_result"
    }
   ],
   "source": [
    "from sklearn.externals import joblib\n",
    "\n",
    "joblib.dump(clf, 'model/nb.pkl')"
   ]
  }
 ],
 "metadata": {
  "kernelspec": {
   "display_name": "Python 3",
   "language": "python",
   "name": "python3"
  },
  "language_info": {
   "codemirror_mode": {
    "name": "ipython",
    "version": 3
   },
   "file_extension": ".py",
   "mimetype": "text/x-python",
   "name": "python",
   "nbconvert_exporter": "python",
   "pygments_lexer": "ipython3",
   "version": "3.7.3"
  }
 },
 "nbformat": 4,
 "nbformat_minor": 2
}
